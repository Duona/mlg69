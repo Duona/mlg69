{
 "cells": [
  {
   "cell_type": "code",
   "execution_count": 182,
   "metadata": {
    "scrolled": true
   },
   "outputs": [
    {
     "data": {
      "text/plain": [
       "(798, 112)"
      ]
     },
     "execution_count": 182,
     "metadata": {},
     "output_type": "execute_result"
    }
   ],
   "source": [
    "import numpy as np\n",
    "from sklearn.model_selection import train_test_split\n",
    "from sklearn.metrics import mean_squared_error\n",
    "\n",
    "# Load training and testing data\n",
    "X_train = np.loadtxt('X_train.csv', delimiter=',', skiprows=1)\n",
    "X_test = np.loadtxt('X_test.csv', delimiter=',', skiprows=1)\n",
    "y_train = np.loadtxt('y_train.csv', delimiter=',', skiprows=1)[:, 1]\n",
    "\n",
    "\n",
    "# np.random.seed(0)\n",
    "# np.random.seed(69)\n",
    "\n",
    "X, Xt, y, yt = train_test_split(X_train, y_train, test_size=0.2) # random_state=0\n",
    "\n",
    "X_test.shape"
   ]
  },
  {
   "cell_type": "code",
   "execution_count": 183,
   "metadata": {},
   "outputs": [
    {
     "name": "stdout",
     "output_type": "stream",
     "text": [
      "train\n",
      "[2. 2. 2. 2. 2. 1. 1. 1. 1. 2. 1. 1. 1. 1. 1. 1. 2. 1. 1. 2. 1. 2. 2. 1.\n",
      " 1. 2. 2. 2. 1. 2. 1. 1. 1. 2. 2. 2. 2. 2. 1. 1. 1. 2. 2. 2. 2. 1. 2. 2.\n",
      " 1. 1. 2. 2. 2. 2. 1. 2. 2. 1. 1. 1. 2. 1. 2. 2. 2. 1. 1. 2. 2. 1. 2. 2.\n",
      " 2. 1. 1. 1. 2. 1. 1. 2. 2. 2. 2. 2. 2. 1. 1. 2. 2. 1. 1. 1. 1. 2. 1. 2.\n",
      " 1. 1. 2. 2. 1. 1. 2. 2. 1. 2. 2. 2. 1. 2. 1. 2. 1. 1. 2. 1. 2. 2. 1. 1.\n",
      " 2. 2. 1. 2. 2. 2. 2. 2. 1. 2. 1. 2. 2. 2. 2. 1. 2. 2. 2. 2. 1. 2. 2. 2.\n",
      " 2. 1. 2. 2. 1. 2. 2. 2. 2. 1. 2. 1. 1. 2. 2. 2.]\n",
      "1.0\n",
      "test\n",
      "[1. 1. 2. 1. 2. 1. 1. 1. 2. 1. 1. 2. 2. 2. 1. 2. 2. 2. 1. 1. 1. 1. 1. 2.\n",
      " 1. 1. 2. 1. 2. 1. 2. 1. 2. 1. 2. 2. 2. 1. 2. 1.]\n",
      "0.9\n"
     ]
    }
   ],
   "source": [
    "# random forest cls\n",
    "from sklearn.ensemble import RandomForestClassifier\n",
    "\n",
    "cls = RandomForestClassifier(n_estimators=30, max_depth=None).fit(X, y)\n",
    "\n",
    "yp = cls.predict(X)\n",
    "print(\"train\")\n",
    "print(yp)\n",
    "print(cls.score(X, y))\n",
    "ytp = cls.predict(Xt)\n",
    "print(\"test\")\n",
    "print(ytp)\n",
    "print(cls.score(Xt, yt))"
   ]
  },
  {
   "cell_type": "code",
   "execution_count": 146,
   "metadata": {},
   "outputs": [
    {
     "name": "stdout",
     "output_type": "stream",
     "text": [
      "train\n",
      "[2. 1. 2. 1. 1. 2. 2. 1. 1. 1. 1. 2. 1. 1. 1. 2. 2. 2. 2. 1. 1. 2. 1. 2.\n",
      " 2. 1. 1. 2. 1. 2. 1. 1. 1. 2. 2. 2. 2. 2. 2. 1. 1. 2. 2. 2. 1. 1. 1. 1.\n",
      " 1. 2. 2. 2. 2. 1. 2. 1. 1. 1. 1. 1. 2. 2. 1. 1. 1. 1. 1. 2. 1. 2. 2. 1.\n",
      " 2. 2. 2. 2. 2. 1. 1. 2. 2. 1. 1. 1. 1. 2. 1. 1. 1. 2. 2. 1. 2. 2. 2. 1.\n",
      " 2. 1. 2. 2. 1. 1. 2. 1. 1. 1. 1. 1. 2. 1. 2. 1. 2. 2. 2. 1. 2. 2. 2. 2.\n",
      " 1. 2. 2. 2. 2. 1. 2. 1. 2. 2. 2. 1. 1. 2. 1. 2. 1. 1. 2. 2. 2. 2. 2. 1.\n",
      " 2. 2. 1. 2. 2. 1. 2. 2. 2. 2. 1. 1. 2. 2. 2. 2.]\n",
      "0.85\n",
      "test\n",
      "[2. 1. 1. 1. 1. 1. 2. 2. 2. 2. 1. 2. 1. 1. 2. 2. 2. 1. 2. 1. 1. 2. 2. 2.\n",
      " 2. 2. 1. 1. 2. 2. 2. 1. 2. 1. 2. 2. 2. 2. 2. 1.]\n",
      "0.925\n"
     ]
    }
   ],
   "source": [
    "# svm cls\n",
    "from sklearn.svm import SVC\n",
    "from sklearn.preprocessing import MinMaxScaler\n",
    "\n",
    "scale = MinMaxScaler((-1, 1))\n",
    "\n",
    "Xs = scale.fit_transform(X)\n",
    "Xts = scale.fit_transform(Xt)\n",
    "\n",
    "# ‘linear’, ‘poly’, ‘rbf’, ‘sigmoid’, ‘precomputed’ \n",
    "cls = SVC(kernel='rbf', degree=1, gamma='auto').fit(Xs, y)\n",
    "\n",
    "yp = cls.predict(Xs)\n",
    "print(\"train\")\n",
    "print(yp)\n",
    "print(cls.score(Xs, y))\n",
    "ytp = cls.predict(Xts)\n",
    "print(\"test\")\n",
    "print(ytp)\n",
    "print(cls.score(Xts, yt))"
   ]
  },
  {
   "cell_type": "code",
   "execution_count": 157,
   "metadata": {},
   "outputs": [
    {
     "name": "stdout",
     "output_type": "stream",
     "text": [
      "<built-in method seed of mtrand.RandomState object at 0x7f118c036ee8>\n",
      "[2. 1. 1. 1. 2. 2. 1. 1. 2. 1. 1. 1. 2. 2. 2. 1. 2. 1. 2. 2. 2. 2. 1. 2.\n",
      " 1. 2. 2. 2. 1. 2. 2. 1. 2. 2. 2. 2. 2. 2. 2. 1. 2. 1. 1. 2. 2. 2. 2. 2.\n",
      " 2. 2. 2. 2. 2. 1. 2. 2. 2. 2. 1. 2. 2. 1. 1. 1. 2. 2. 1. 2. 2. 2. 2. 2.\n",
      " 2. 2. 1. 1. 2. 1. 2. 1. 2. 1. 1. 1. 2. 2. 1. 2. 2. 1. 2. 2. 2. 2. 2. 2.\n",
      " 2. 2. 2. 1. 2. 1. 1. 2. 2. 2. 2. 2. 2. 2. 2. 2. 2. 2. 2. 2. 1. 2. 2. 2.\n",
      " 2. 2. 2. 1. 2. 2. 2. 2. 1. 2. 2. 2. 2. 2. 1. 2. 2. 2. 1. 2. 2. 2. 2. 1.\n",
      " 2. 2. 2. 2. 2. 2. 2. 2. 2. 2. 2. 2. 1. 2. 2. 2. 1. 2. 2. 2. 1. 2. 2. 1.\n",
      " 1. 2. 2. 2. 1. 2. 1. 2. 2. 1. 1. 2. 2. 2. 2. 2. 2. 1. 2. 2. 2. 1. 2. 1.\n",
      " 1. 2. 2. 2. 1. 2. 2. 2. 2. 1. 1. 2. 2. 1. 1. 1. 1. 2. 2. 1. 1. 2. 2. 2.\n",
      " 1. 2. 1. 1. 2. 2. 2. 2. 1. 2. 1. 2. 2. 2. 1. 2. 2. 2. 2. 2. 1. 1. 1. 2.\n",
      " 1. 2. 2. 2. 1. 1. 2. 2. 2. 1. 2. 2. 2. 2. 2. 2. 2. 2. 2. 1. 2. 2. 1. 2.\n",
      " 1. 2. 1. 2. 1. 2. 2. 1. 2. 1. 2. 2. 1. 2. 2. 2. 2. 1. 2. 1. 2. 1. 1. 1.\n",
      " 1. 1. 2. 2. 2. 1. 1. 1. 1. 2. 2. 1. 1. 2. 2. 2. 2. 2. 2. 2. 2. 2. 2. 1.\n",
      " 2. 2. 1. 2. 1. 2. 1. 2. 2. 2. 1. 1. 1. 2. 1. 2. 2. 1. 2. 2. 2. 2. 2. 2.\n",
      " 2. 1. 2. 2. 2. 2. 1. 2. 2. 1. 1. 1. 2. 2. 2. 1. 2. 2. 1. 2. 2. 1. 1. 2.\n",
      " 2. 2. 2. 2. 1. 2. 2. 2. 2. 1. 1. 2. 1. 1. 2. 2. 2. 2. 1. 2. 1. 2. 1. 1.\n",
      " 2. 2. 2. 2. 2. 2. 2. 2. 1. 2. 2. 1. 1. 2. 2. 1. 1. 2. 2. 2. 2. 1. 1. 2.\n",
      " 2. 2. 2. 2. 2. 1. 1. 2. 2. 1. 1. 2. 2. 2. 2. 2. 1. 2. 2. 2. 1. 2. 2. 2.\n",
      " 2. 1. 1. 2. 2. 2. 2. 2. 1. 2. 2. 2. 2. 2. 1. 1. 2. 2. 2. 1. 2. 1. 2. 2.\n",
      " 1. 1. 2. 1. 1. 2. 1. 2. 1. 2. 2. 2. 2. 2. 2. 2. 2. 2. 1. 2. 1. 1. 2. 2.\n",
      " 2. 1. 1. 2. 2. 1. 2. 1. 2. 2. 2. 1. 1. 2. 1. 2. 2. 2. 2. 2. 1. 2. 2. 2.\n",
      " 2. 2. 2. 1. 2. 2. 1. 2. 2. 1. 2. 2. 1. 2. 2. 2. 2. 2. 1. 2. 1. 2. 2. 2.\n",
      " 1. 1. 1. 2. 1. 2. 2. 2. 1. 2. 1. 2. 2. 2. 2. 2. 2. 2. 2. 2. 2. 2. 2. 1.\n",
      " 2. 2. 2. 2. 2. 1. 1. 2. 2. 2. 1. 1. 2. 1. 2. 1. 1. 1. 1. 1. 2. 2. 1. 2.\n",
      " 2. 1. 1. 2. 2. 2. 2. 2. 2. 1. 2. 1. 2. 1. 1. 1. 2. 2. 1. 2. 2. 2. 2. 2.\n",
      " 2. 2. 2. 2. 2. 2. 2. 2. 1. 1. 2. 2. 2. 1. 2. 2. 1. 1. 2. 2. 2. 2. 2. 1.\n",
      " 1. 2. 2. 2. 2. 2. 2. 2. 1. 2. 1. 1. 2. 2. 2. 2. 1. 2. 2. 2. 1. 2. 2. 2.\n",
      " 1. 1. 2. 2. 2. 2. 2. 2. 2. 2. 2. 2. 2. 2. 2. 2. 1. 2. 2. 2. 2. 2. 1. 2.\n",
      " 2. 2. 2. 2. 2. 2. 1. 2. 1. 2. 2. 1. 1. 1. 2. 1. 2. 1. 2. 2. 2. 2. 2. 1.\n",
      " 2. 1. 2. 2. 2. 2. 2. 2. 2. 2. 1. 1. 2. 2. 1. 1. 1. 2. 1. 1. 1. 1. 2. 2.\n",
      " 2. 2. 1. 1. 2. 2. 2. 1. 1. 2. 2. 1. 1. 2. 2. 1. 2. 1. 2. 2. 2. 2. 1. 1.\n",
      " 2. 2. 2. 2. 2. 2. 2. 2. 2. 2. 2. 2. 2. 2. 1. 2. 2. 1. 2. 2. 2. 2. 2. 1.\n",
      " 1. 2. 1. 1. 2. 2. 1. 2. 2. 2. 2. 2. 1. 2. 2. 2. 2. 1. 1. 2. 2. 2. 2. 2.\n",
      " 2. 2. 2. 2. 2. 2.]\n"
     ]
    }
   ],
   "source": [
    "# Arrange answer in two columns. First column (with header \"Id\") is an\n",
    "# enumeration from 0 to n-1, where n is the number of test points. Second\n",
    "# column (with header \"EpiOrStroma\" is the predictions.\n",
    "y_pred = cls.predict(X_test)\n",
    "print(y_pred)\n",
    "\n",
    "test_header = \"Id,EpiOrStroma\"\n",
    "n_points = X_test.shape[0]\n",
    "y_pred_pp = np.ones((n_points, 2))\n",
    "y_pred_pp[:, 0] = range(n_points)\n",
    "y_pred_pp[:, 1] = y_pred\n",
    "np.savetxt('cls1_sub.csv', y_pred_pp, fmt='%d', delimiter=\",\",\n",
    "           header=test_header, comments=\"\")\n",
    "\n",
    "# Note: fmt='%d' denotes that all values should be formatted as integers which\n",
    "# is appropriate for classification. For regression, where the second column\n",
    "# should be floating point, use fmt='%d,%f'."
   ]
  }
 ],
 "metadata": {
  "kernelspec": {
   "display_name": "Python 3",
   "language": "python",
   "name": "python3"
  },
  "language_info": {
   "codemirror_mode": {
    "name": "ipython",
    "version": 3
   },
   "file_extension": ".py",
   "mimetype": "text/x-python",
   "name": "python",
   "nbconvert_exporter": "python",
   "pygments_lexer": "ipython3",
   "version": "3.7.0"
  }
 },
 "nbformat": 4,
 "nbformat_minor": 2
}
