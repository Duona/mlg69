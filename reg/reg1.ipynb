{
 "cells": [
  {
   "cell_type": "code",
   "execution_count": 98,
   "metadata": {},
   "outputs": [
    {
     "data": {
      "text/plain": [
       "(41, 6)"
      ]
     },
     "execution_count": 98,
     "metadata": {},
     "output_type": "execute_result"
    }
   ],
   "source": [
    "import numpy as np\n",
    "from sklearn.model_selection import train_test_split\n",
    "from sklearn.metrics import mean_squared_error\n",
    "\n",
    "# np.random.seed(0)\n",
    "np.random.seed(69)\n",
    "# Load training and testing data\n",
    "X_train = np.loadtxt('X_train.csv', delimiter=',', skiprows=1)\n",
    "X_test = np.loadtxt('X_test.csv', delimiter=',', skiprows=1)\n",
    "y_train = np.loadtxt('y_train.csv', delimiter=',', skiprows=1)[:,1]\n",
    "\n",
    "X, Xt, y, yt = train_test_split(X_train, y_train, test_size=0.2) # random_state=0\n",
    "\n",
    "def rmse(y_true, y_pred, *args, **kwargs):\n",
    "    return np.sqrt(mean_squared_error(y_true, y_pred, *args, **kwargs))\n",
    "\n",
    "# Fit model and predict test values\n",
    "y_pred = np.random.randint(y_train.min(), y_train.max(), X_test.shape[0])\n",
    "\n",
    "X_test.shape"
   ]
  },
  {
   "cell_type": "code",
   "execution_count": 99,
   "metadata": {},
   "outputs": [
    {
     "name": "stdout",
     "output_type": "stream",
     "text": [
      "train\n",
      "23.806444742901586\n",
      "test\n",
      "29.208163641299535\n"
     ]
    }
   ],
   "source": [
    "# random forest reg\n",
    "from sklearn.ensemble import RandomForestRegressor\n",
    "\n",
    "reg = RandomForestRegressor(n_estimators=30, max_depth=None).fit(X, y)\n",
    "\n",
    "yp = reg.predict(X)\n",
    "print(\"train\")\n",
    "print(rmse(y, yp))\n",
    "ytp = reg.predict(Xt)\n",
    "print(\"test\")\n",
    "print(rmse(yt, ytp))"
   ]
  },
  {
   "cell_type": "code",
   "execution_count": 45,
   "metadata": {},
   "outputs": [
    {
     "name": "stdout",
     "output_type": "stream",
     "text": [
      "-46.02048895300834\n",
      "[0.04258486 0.01720842 0.00372654 0.69482286 1.70354487 1.37634173]\n",
      "train\n",
      "0.8800740843262105\n",
      "54.538244801464835\n",
      "test\n",
      "0.9099016192024215\n",
      "36.15897266598111\n"
     ]
    }
   ],
   "source": [
    "# simple lin reg\n",
    "from sklearn.linear_model import LinearRegression\n",
    "\n",
    "reg = LinearRegression(fit_intercept=True, normalize=True).fit(X, y)\n",
    "print(reg.intercept_)\n",
    "print(reg.coef_)\n",
    "yp = reg.predict(X)\n",
    "print(\"train\")\n",
    "print(reg.score(X, y))\n",
    "print(rmse(y, yp))\n",
    "ytp = reg.predict(Xt)\n",
    "print(\"test\")\n",
    "print(reg.score(Xt, yt))\n",
    "print(rmse(yt, ytp))"
   ]
  },
  {
   "cell_type": "code",
   "execution_count": 192,
   "metadata": {},
   "outputs": [
    {
     "name": "stdout",
     "output_type": "stream",
     "text": [
      "[58.51264669]\n",
      "train\n",
      "163.25917066676377\n",
      "test\n",
      "124.53793340374547\n"
     ]
    }
   ],
   "source": [
    "# SVR\n",
    "from sklearn.svm import SVR\n",
    "from sklearn.preprocessing import MinMaxScaler\n",
    "\n",
    "scale = MinMaxScaler((-1, 1))\n",
    "\n",
    "Xs = scale.fit_transform(X)\n",
    "Xts = scale.fit_transform(Xt)\n",
    "\n",
    "reg = SVR(kernel='poly', degree=5, tol=1e-6).fit(Xs, y)\n",
    "# print(reg.coef_)\n",
    "print(reg.intercept_)\n",
    "yp = reg.predict(Xs)\n",
    "print(\"train\")\n",
    "print(rmse(y, yp))\n",
    "ytp = reg.predict(Xts)\n",
    "print(\"test\")\n",
    "print(rmse(yt, ytp))"
   ]
  },
  {
   "cell_type": "code",
   "execution_count": 254,
   "metadata": {},
   "outputs": [
    {
     "name": "stdout",
     "output_type": "stream",
     "text": [
      "[-0.00742821  0.0093737   0.00289606  0.73241582  2.88636839  0.84145589]\n",
      "0.7307008766147476\n",
      "train\n",
      "67.41697548743909\n",
      "test\n",
      "38.636265243684456\n"
     ]
    }
   ],
   "source": [
    "# ridge regression\n",
    "from sklearn import linear_model\n",
    "\n",
    "\n",
    "# X, Xt, y, yt = train_test_split(X_train, y_train, test_size=0.2)\n",
    "\n",
    "# solver : {‘auto’, ‘svd’, ‘cholesky’, ‘lsqr’, ‘sparse_cg’, ‘sag’, ‘saga’}\n",
    "reg = linear_model.Ridge(alpha=1, normalize=True, solver='auto').fit(X, y)\n",
    "\n",
    "print(reg.coef_)\n",
    "print(reg.intercept_)\n",
    "yp = reg.predict(X)\n",
    "print(\"train\")\n",
    "print(rmse(y, yp))\n",
    "ytp = reg.predict(Xt)\n",
    "print(\"test\")\n",
    "print(rmse(yt, ytp))"
   ]
  },
  {
   "cell_type": "code",
   "execution_count": 100,
   "metadata": {},
   "outputs": [],
   "source": [
    "# Arrange answer in two columns. First column (with header \"Id\") is an\n",
    "# enumeration from 0 to n-1, where n is the number of test points. Second\n",
    "# column (with header \"EpiOrStroma\" is the predictions.\n",
    "y_pred = reg.predict(X_test)\n",
    "\n",
    "test_header = \"Id,PRP\"\n",
    "n_points = X_test.shape[0]\n",
    "y_pred_pp = np.ones((n_points, 2))\n",
    "y_pred_pp[:, 0] = range(n_points)\n",
    "y_pred_pp[:, 1] = y_pred\n",
    "np.savetxt('reg1_sub.csv', y_pred_pp, fmt='%d,%f', delimiter=\",\",\n",
    "           header=test_header, comments=\"\")\n",
    "\n",
    "# Note: fmt='%d' denotes that all values should be formatted as integers which\n",
    "# is appropriate for classification. For regression, where the second column\n",
    "# should be floating point, use fmt='%d,%f'."
   ]
  }
 ],
 "metadata": {
  "kernelspec": {
   "display_name": "Python 3",
   "language": "python",
   "name": "python3"
  },
  "language_info": {
   "codemirror_mode": {
    "name": "ipython",
    "version": 3
   },
   "file_extension": ".py",
   "mimetype": "text/x-python",
   "name": "python",
   "nbconvert_exporter": "python",
   "pygments_lexer": "ipython3",
   "version": "3.7.0"
  }
 },
 "nbformat": 4,
 "nbformat_minor": 2
}
